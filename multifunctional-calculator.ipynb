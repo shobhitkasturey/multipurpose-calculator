{
 "cells": [
  {
   "cell_type": "code",
   "execution_count": 12,
   "metadata": {
    "_cell_guid": "b1076dfc-b9ad-4769-8c92-a6c4dae69d19",
    "_uuid": "8f2839f25d086af736a60e9eeb907d3b93b6e0e5",
    "execution": {
     "iopub.execute_input": "2024-04-19T18:02:38.257472Z",
     "iopub.status.busy": "2024-04-19T18:02:38.256843Z",
     "iopub.status.idle": "2024-04-19T18:04:47.947717Z",
     "shell.execute_reply": "2024-04-19T18:04:47.946350Z",
     "shell.execute_reply.started": "2024-04-19T18:02:38.257413Z"
    }
   },
   "outputs": [
    {
     "name": "stdout",
     "output_type": "stream",
     "text": [
      "\u001b[33mWARNING: Retrying (Retry(total=4, connect=None, read=None, redirect=None, status=None)) after connection broken by 'NewConnectionError('<pip._vendor.urllib3.connection.HTTPSConnection object at 0x7d94101d8100>: Failed to establish a new connection: [Errno -3] Temporary failure in name resolution')': /simple/measurement/\u001b[0m\u001b[33m\n",
      "\u001b[0m\u001b[33mWARNING: Retrying (Retry(total=3, connect=None, read=None, redirect=None, status=None)) after connection broken by 'NewConnectionError('<pip._vendor.urllib3.connection.HTTPSConnection object at 0x7d94101d8400>: Failed to establish a new connection: [Errno -3] Temporary failure in name resolution')': /simple/measurement/\u001b[0m\u001b[33m\n",
      "\u001b[0m\u001b[33mWARNING: Retrying (Retry(total=2, connect=None, read=None, redirect=None, status=None)) after connection broken by 'NewConnectionError('<pip._vendor.urllib3.connection.HTTPSConnection object at 0x7d94101d86a0>: Failed to establish a new connection: [Errno -3] Temporary failure in name resolution')': /simple/measurement/\u001b[0m\u001b[33m\n",
      "\u001b[0m\u001b[33mWARNING: Retrying (Retry(total=1, connect=None, read=None, redirect=None, status=None)) after connection broken by 'NewConnectionError('<pip._vendor.urllib3.connection.HTTPSConnection object at 0x7d94101d8850>: Failed to establish a new connection: [Errno -3] Temporary failure in name resolution')': /simple/measurement/\u001b[0m\u001b[33m\n",
      "\u001b[0m\u001b[33mWARNING: Retrying (Retry(total=0, connect=None, read=None, redirect=None, status=None)) after connection broken by 'NewConnectionError('<pip._vendor.urllib3.connection.HTTPSConnection object at 0x7d94101d8a00>: Failed to establish a new connection: [Errno -3] Temporary failure in name resolution')': /simple/measurement/\u001b[0m\u001b[33m\n",
      "\u001b[0m\u001b[31mERROR: Could not find a version that satisfies the requirement measurement (from versions: none)\u001b[0m\u001b[31m\n",
      "\u001b[0m\u001b[31mERROR: No matching distribution found for measurement\u001b[0m\u001b[31m\n",
      "\u001b[0m"
     ]
    }
   ],
   "source": [
    "!pip install measurement\n"
   ]
  },
  {
   "cell_type": "code",
   "execution_count": null,
   "metadata": {},
   "outputs": [],
   "source": [
    "import tkinter as tk\n",
    "from forex_python.converter import CurrencyRates\n",
    "\n",
    "class CalculatorApp:\n",
    "    def __init__(self, root):\n",
    "        self.root = root\n",
    "        self.root.title(\"Multi-functional Calculator\")\n",
    "\n",
    "        self.currency_rates = CurrencyRates()\n",
    "\n",
    "        # Create input field\n",
    "        self.input_field = tk.Entry(root, width=50, borderwidth=5)\n",
    "        self.input_field.grid(row=0, column=0, columnspan=4, padx=10, pady=10)\n",
    "\n",
    "        # Create buttons\n",
    "        self.buttons = [\n",
    "            ('7', 1, 0), ('8', 1, 1), ('9', 1, 2), ('*', 1, 3),\n",
    "            ('4', 2, 0), ('5', 2, 1), ('6', 2, 2), ('/', 2, 3),\n",
    "            ('1', 3, 0), ('2', 3, 1), ('3', 3, 2), ('+', 3, 3),\n",
    "            ('0', 4, 0), ('.', 4, 1), ('=', 4, 2), ('-', 4, 3),\n",
    "        ]\n",
    "\n",
    "        for (text, row, col) in self.buttons:\n",
    "            button = tk.Button(root, text=text, padx=40, pady=20, command=lambda t=text: self.button_click(t))\n",
    "            button.grid(row=row, column=col)\n",
    "\n",
    "    def button_click(self, value):\n",
    "        current = self.input_field.get()\n",
    "        if value == '=':\n",
    "            try:\n",
    "                result = eval(current)\n",
    "                self.input_field.delete(0, tk.END)\n",
    "                self.input_field.insert(tk.END, str(result))\n",
    "            except Exception as e:\n",
    "                self.input_field.delete(0, tk.END)\n",
    "                self.input_field.insert(tk.END, \"Error\")\n",
    "        else:\n",
    "            self.input_field.insert(tk.END, value)\n",
    "\n",
    "    def convert_currency(self, amount, from_currency, to_currency):\n",
    "        return self.currency_rates.convert(from_currency, to_currency, amount)\n",
    "\n",
    "# Create the main window\n",
    "root = tk.Tk()\n",
    "app = CalculatorApp(root)\n",
    "root.mainloop()\n"
   ]
  }
 ],
 "metadata": {
  "kaggle": {
   "accelerator": "none",
   "dataSources": [],
   "dockerImageVersionId": 30698,
   "isGpuEnabled": false,
   "isInternetEnabled": false,
   "language": "python",
   "sourceType": "notebook"
  },
  "kernelspec": {
   "display_name": "Python 3 (ipykernel)",
   "language": "python",
   "name": "python3"
  },
  "language_info": {
   "codemirror_mode": {
    "name": "ipython",
    "version": 3
   },
   "file_extension": ".py",
   "mimetype": "text/x-python",
   "name": "python",
   "nbconvert_exporter": "python",
   "pygments_lexer": "ipython3",
   "version": "3.11.3"
  }
 },
 "nbformat": 4,
 "nbformat_minor": 4
}
